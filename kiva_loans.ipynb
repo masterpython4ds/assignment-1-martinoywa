{
 "cells": [
  {
   "cell_type": "code",
   "execution_count": 1,
   "metadata": {},
   "outputs": [],
   "source": [
    "import pandas as pd\n",
    "import numpy as np\n",
    "import matplotlib.pyplot as plt\n",
    "import seaborn; seaborn.set()\n",
    "\n",
    "%matplotlib inline"
   ]
  },
  {
   "cell_type": "markdown",
   "metadata": {},
   "source": [
    "# Loading, Describing and Cleaning"
   ]
  },
  {
   "cell_type": "code",
   "execution_count": 152,
   "metadata": {},
   "outputs": [
    {
     "data": {
      "text/html": [
       "<div>\n",
       "<style scoped>\n",
       "    .dataframe tbody tr th:only-of-type {\n",
       "        vertical-align: middle;\n",
       "    }\n",
       "\n",
       "    .dataframe tbody tr th {\n",
       "        vertical-align: top;\n",
       "    }\n",
       "\n",
       "    .dataframe thead th {\n",
       "        text-align: right;\n",
       "    }\n",
       "</style>\n",
       "<table border=\"1\" class=\"dataframe\">\n",
       "  <thead>\n",
       "    <tr style=\"text-align: right;\">\n",
       "      <th></th>\n",
       "      <th>id</th>\n",
       "      <th>funded_amount</th>\n",
       "      <th>loan_amount</th>\n",
       "      <th>activity</th>\n",
       "      <th>sector</th>\n",
       "      <th>use</th>\n",
       "      <th>country_code</th>\n",
       "      <th>country</th>\n",
       "      <th>region</th>\n",
       "      <th>currency</th>\n",
       "      <th>partner_id</th>\n",
       "      <th>posted_time</th>\n",
       "      <th>disbursed_time</th>\n",
       "      <th>funded_time</th>\n",
       "      <th>term_in_months</th>\n",
       "      <th>lender_count</th>\n",
       "      <th>tags</th>\n",
       "      <th>borrower_genders</th>\n",
       "      <th>repayment_interval</th>\n",
       "      <th>date</th>\n",
       "    </tr>\n",
       "  </thead>\n",
       "  <tbody>\n",
       "    <tr>\n",
       "      <th>0</th>\n",
       "      <td>653051</td>\n",
       "      <td>300.0</td>\n",
       "      <td>300.0</td>\n",
       "      <td>Fruits &amp; Vegetables</td>\n",
       "      <td>Food</td>\n",
       "      <td>To buy seasonal, fresh fruits to sell.</td>\n",
       "      <td>PK</td>\n",
       "      <td>Pakistan</td>\n",
       "      <td>Lahore</td>\n",
       "      <td>PKR</td>\n",
       "      <td>247.0</td>\n",
       "      <td>2014-01-01 06:12:39+00:00</td>\n",
       "      <td>2013-12-17 08:00:00+00:00</td>\n",
       "      <td>2014-01-02 10:06:32+00:00</td>\n",
       "      <td>12.0</td>\n",
       "      <td>12</td>\n",
       "      <td>NaN</td>\n",
       "      <td>female</td>\n",
       "      <td>irregular</td>\n",
       "      <td>2014-01-01</td>\n",
       "    </tr>\n",
       "    <tr>\n",
       "      <th>1</th>\n",
       "      <td>653053</td>\n",
       "      <td>575.0</td>\n",
       "      <td>575.0</td>\n",
       "      <td>Rickshaw</td>\n",
       "      <td>Transportation</td>\n",
       "      <td>to repair and maintain the auto rickshaw used ...</td>\n",
       "      <td>PK</td>\n",
       "      <td>Pakistan</td>\n",
       "      <td>Lahore</td>\n",
       "      <td>PKR</td>\n",
       "      <td>247.0</td>\n",
       "      <td>2014-01-01 06:51:08+00:00</td>\n",
       "      <td>2013-12-17 08:00:00+00:00</td>\n",
       "      <td>2014-01-02 09:17:23+00:00</td>\n",
       "      <td>11.0</td>\n",
       "      <td>14</td>\n",
       "      <td>NaN</td>\n",
       "      <td>female, female</td>\n",
       "      <td>irregular</td>\n",
       "      <td>2014-01-01</td>\n",
       "    </tr>\n",
       "    <tr>\n",
       "      <th>2</th>\n",
       "      <td>653068</td>\n",
       "      <td>150.0</td>\n",
       "      <td>150.0</td>\n",
       "      <td>Transportation</td>\n",
       "      <td>Transportation</td>\n",
       "      <td>To repair their old cycle-van and buy another ...</td>\n",
       "      <td>IN</td>\n",
       "      <td>India</td>\n",
       "      <td>Maynaguri</td>\n",
       "      <td>INR</td>\n",
       "      <td>334.0</td>\n",
       "      <td>2014-01-01 09:58:07+00:00</td>\n",
       "      <td>2013-12-17 08:00:00+00:00</td>\n",
       "      <td>2014-01-01 16:01:36+00:00</td>\n",
       "      <td>43.0</td>\n",
       "      <td>6</td>\n",
       "      <td>user_favorite, user_favorite</td>\n",
       "      <td>female</td>\n",
       "      <td>bullet</td>\n",
       "      <td>2014-01-01</td>\n",
       "    </tr>\n",
       "    <tr>\n",
       "      <th>3</th>\n",
       "      <td>653063</td>\n",
       "      <td>200.0</td>\n",
       "      <td>200.0</td>\n",
       "      <td>Embroidery</td>\n",
       "      <td>Arts</td>\n",
       "      <td>to purchase an embroidery machine and a variet...</td>\n",
       "      <td>PK</td>\n",
       "      <td>Pakistan</td>\n",
       "      <td>Lahore</td>\n",
       "      <td>PKR</td>\n",
       "      <td>247.0</td>\n",
       "      <td>2014-01-01 08:03:11+00:00</td>\n",
       "      <td>2013-12-24 08:00:00+00:00</td>\n",
       "      <td>2014-01-01 13:00:00+00:00</td>\n",
       "      <td>11.0</td>\n",
       "      <td>8</td>\n",
       "      <td>NaN</td>\n",
       "      <td>female</td>\n",
       "      <td>irregular</td>\n",
       "      <td>2014-01-01</td>\n",
       "    </tr>\n",
       "    <tr>\n",
       "      <th>4</th>\n",
       "      <td>653084</td>\n",
       "      <td>400.0</td>\n",
       "      <td>400.0</td>\n",
       "      <td>Milk Sales</td>\n",
       "      <td>Food</td>\n",
       "      <td>to purchase one buffalo.</td>\n",
       "      <td>PK</td>\n",
       "      <td>Pakistan</td>\n",
       "      <td>Abdul Hakeem</td>\n",
       "      <td>PKR</td>\n",
       "      <td>245.0</td>\n",
       "      <td>2014-01-01 11:53:19+00:00</td>\n",
       "      <td>2013-12-17 08:00:00+00:00</td>\n",
       "      <td>2014-01-01 19:18:51+00:00</td>\n",
       "      <td>14.0</td>\n",
       "      <td>16</td>\n",
       "      <td>NaN</td>\n",
       "      <td>female</td>\n",
       "      <td>monthly</td>\n",
       "      <td>2014-01-01</td>\n",
       "    </tr>\n",
       "  </tbody>\n",
       "</table>\n",
       "</div>"
      ],
      "text/plain": [
       "       id  funded_amount  loan_amount             activity          sector  \\\n",
       "0  653051          300.0        300.0  Fruits & Vegetables            Food   \n",
       "1  653053          575.0        575.0             Rickshaw  Transportation   \n",
       "2  653068          150.0        150.0       Transportation  Transportation   \n",
       "3  653063          200.0        200.0           Embroidery            Arts   \n",
       "4  653084          400.0        400.0           Milk Sales            Food   \n",
       "\n",
       "                                                 use country_code   country  \\\n",
       "0            To buy seasonal, fresh fruits to sell.            PK  Pakistan   \n",
       "1  to repair and maintain the auto rickshaw used ...           PK  Pakistan   \n",
       "2  To repair their old cycle-van and buy another ...           IN     India   \n",
       "3  to purchase an embroidery machine and a variet...           PK  Pakistan   \n",
       "4                           to purchase one buffalo.           PK  Pakistan   \n",
       "\n",
       "         region currency  partner_id                posted_time  \\\n",
       "0        Lahore      PKR       247.0  2014-01-01 06:12:39+00:00   \n",
       "1        Lahore      PKR       247.0  2014-01-01 06:51:08+00:00   \n",
       "2     Maynaguri      INR       334.0  2014-01-01 09:58:07+00:00   \n",
       "3        Lahore      PKR       247.0  2014-01-01 08:03:11+00:00   \n",
       "4  Abdul Hakeem      PKR       245.0  2014-01-01 11:53:19+00:00   \n",
       "\n",
       "              disbursed_time                funded_time  term_in_months  \\\n",
       "0  2013-12-17 08:00:00+00:00  2014-01-02 10:06:32+00:00            12.0   \n",
       "1  2013-12-17 08:00:00+00:00  2014-01-02 09:17:23+00:00            11.0   \n",
       "2  2013-12-17 08:00:00+00:00  2014-01-01 16:01:36+00:00            43.0   \n",
       "3  2013-12-24 08:00:00+00:00  2014-01-01 13:00:00+00:00            11.0   \n",
       "4  2013-12-17 08:00:00+00:00  2014-01-01 19:18:51+00:00            14.0   \n",
       "\n",
       "   lender_count                          tags borrower_genders  \\\n",
       "0            12                           NaN           female   \n",
       "1            14                           NaN   female, female   \n",
       "2             6  user_favorite, user_favorite           female   \n",
       "3             8                           NaN           female   \n",
       "4            16                           NaN           female   \n",
       "\n",
       "  repayment_interval        date  \n",
       "0          irregular  2014-01-01  \n",
       "1          irregular  2014-01-01  \n",
       "2             bullet  2014-01-01  \n",
       "3          irregular  2014-01-01  \n",
       "4            monthly  2014-01-01  "
      ]
     },
     "execution_count": 152,
     "metadata": {},
     "output_type": "execute_result"
    }
   ],
   "source": [
    "loans = pd.read_csv('data/kiva_loans.csv')\n",
    "loans.head()"
   ]
  },
  {
   "cell_type": "code",
   "execution_count": 153,
   "metadata": {},
   "outputs": [
    {
     "data": {
      "text/html": [
       "<div>\n",
       "<style scoped>\n",
       "    .dataframe tbody tr th:only-of-type {\n",
       "        vertical-align: middle;\n",
       "    }\n",
       "\n",
       "    .dataframe tbody tr th {\n",
       "        vertical-align: top;\n",
       "    }\n",
       "\n",
       "    .dataframe thead th {\n",
       "        text-align: right;\n",
       "    }\n",
       "</style>\n",
       "<table border=\"1\" class=\"dataframe\">\n",
       "  <thead>\n",
       "    <tr style=\"text-align: right;\">\n",
       "      <th></th>\n",
       "      <th>id</th>\n",
       "      <th>funded_amount</th>\n",
       "      <th>loan_amount</th>\n",
       "      <th>partner_id</th>\n",
       "      <th>term_in_months</th>\n",
       "      <th>lender_count</th>\n",
       "    </tr>\n",
       "  </thead>\n",
       "  <tbody>\n",
       "    <tr>\n",
       "      <th>count</th>\n",
       "      <td>6.712050e+05</td>\n",
       "      <td>671205.000000</td>\n",
       "      <td>671205.000000</td>\n",
       "      <td>657698.000000</td>\n",
       "      <td>671205.000000</td>\n",
       "      <td>671205.000000</td>\n",
       "    </tr>\n",
       "    <tr>\n",
       "      <th>mean</th>\n",
       "      <td>9.932486e+05</td>\n",
       "      <td>785.995061</td>\n",
       "      <td>842.397107</td>\n",
       "      <td>178.199616</td>\n",
       "      <td>13.739022</td>\n",
       "      <td>20.590922</td>\n",
       "    </tr>\n",
       "    <tr>\n",
       "      <th>std</th>\n",
       "      <td>1.966113e+05</td>\n",
       "      <td>1130.398941</td>\n",
       "      <td>1198.660073</td>\n",
       "      <td>94.247581</td>\n",
       "      <td>8.598919</td>\n",
       "      <td>28.459551</td>\n",
       "    </tr>\n",
       "    <tr>\n",
       "      <th>min</th>\n",
       "      <td>6.530470e+05</td>\n",
       "      <td>0.000000</td>\n",
       "      <td>25.000000</td>\n",
       "      <td>9.000000</td>\n",
       "      <td>1.000000</td>\n",
       "      <td>0.000000</td>\n",
       "    </tr>\n",
       "    <tr>\n",
       "      <th>25%</th>\n",
       "      <td>8.230720e+05</td>\n",
       "      <td>250.000000</td>\n",
       "      <td>275.000000</td>\n",
       "      <td>126.000000</td>\n",
       "      <td>8.000000</td>\n",
       "      <td>7.000000</td>\n",
       "    </tr>\n",
       "    <tr>\n",
       "      <th>50%</th>\n",
       "      <td>9.927800e+05</td>\n",
       "      <td>450.000000</td>\n",
       "      <td>500.000000</td>\n",
       "      <td>145.000000</td>\n",
       "      <td>13.000000</td>\n",
       "      <td>13.000000</td>\n",
       "    </tr>\n",
       "    <tr>\n",
       "      <th>75%</th>\n",
       "      <td>1.163653e+06</td>\n",
       "      <td>900.000000</td>\n",
       "      <td>1000.000000</td>\n",
       "      <td>204.000000</td>\n",
       "      <td>14.000000</td>\n",
       "      <td>24.000000</td>\n",
       "    </tr>\n",
       "    <tr>\n",
       "      <th>max</th>\n",
       "      <td>1.340339e+06</td>\n",
       "      <td>100000.000000</td>\n",
       "      <td>100000.000000</td>\n",
       "      <td>536.000000</td>\n",
       "      <td>158.000000</td>\n",
       "      <td>2986.000000</td>\n",
       "    </tr>\n",
       "  </tbody>\n",
       "</table>\n",
       "</div>"
      ],
      "text/plain": [
       "                 id  funded_amount    loan_amount     partner_id  \\\n",
       "count  6.712050e+05  671205.000000  671205.000000  657698.000000   \n",
       "mean   9.932486e+05     785.995061     842.397107     178.199616   \n",
       "std    1.966113e+05    1130.398941    1198.660073      94.247581   \n",
       "min    6.530470e+05       0.000000      25.000000       9.000000   \n",
       "25%    8.230720e+05     250.000000     275.000000     126.000000   \n",
       "50%    9.927800e+05     450.000000     500.000000     145.000000   \n",
       "75%    1.163653e+06     900.000000    1000.000000     204.000000   \n",
       "max    1.340339e+06  100000.000000  100000.000000     536.000000   \n",
       "\n",
       "       term_in_months   lender_count  \n",
       "count   671205.000000  671205.000000  \n",
       "mean        13.739022      20.590922  \n",
       "std          8.598919      28.459551  \n",
       "min          1.000000       0.000000  \n",
       "25%          8.000000       7.000000  \n",
       "50%         13.000000      13.000000  \n",
       "75%         14.000000      24.000000  \n",
       "max        158.000000    2986.000000  "
      ]
     },
     "execution_count": 153,
     "metadata": {},
     "output_type": "execute_result"
    }
   ],
   "source": [
    "loans.describe()"
   ]
  },
  {
   "cell_type": "markdown",
   "metadata": {},
   "source": [
    "- The mean of funded_amount which is The amount disbursed by Kiva to the field agent(USD) is lower than loan_amount which is The amount disbursed by the field agent to the borrower(USD), and from the min in describe function above, it seems that there's a case(s) where Kiva didn't disburse money to the field agent but the field agent always disbursed money.\n",
    "- The data is right skewed since the mean is greater than the median (50% percentile), which means than on average, more loan amounts disbursed are greater than 450 USD.\n",
    "- On average, it takes approximately 13 months to disburse a loan with some as fast as 1 month and other taking longer like 158 months. I think this value represent the total amount of time it took to disburse the full loan amount.\n",
    "- The average number of lenders who contributed to a loan is approximately 20, with some as low as 0 and some as high as 2986.\n",
    "- Some partners are lacking id."
   ]
  },
  {
   "cell_type": "code",
   "execution_count": 154,
   "metadata": {},
   "outputs": [
    {
     "data": {
      "text/plain": [
       "id                    False\n",
       "funded_amount         False\n",
       "loan_amount           False\n",
       "activity              False\n",
       "sector                False\n",
       "use                    True\n",
       "country_code           True\n",
       "country               False\n",
       "region                 True\n",
       "currency              False\n",
       "partner_id             True\n",
       "posted_time           False\n",
       "disbursed_time         True\n",
       "funded_time            True\n",
       "term_in_months        False\n",
       "lender_count          False\n",
       "tags                   True\n",
       "borrower_genders       True\n",
       "repayment_interval    False\n",
       "date                  False\n",
       "dtype: bool"
      ]
     },
     "execution_count": 154,
     "metadata": {},
     "output_type": "execute_result"
    }
   ],
   "source": [
    "# check for nulls\n",
    "loans.isnull().any()"
   ]
  },
  {
   "cell_type": "markdown",
   "metadata": {},
   "source": [
    "- The use column contains Null values and since it contains long strings and the activity and sector columns pretty much summarises them, I'll drop this column instead of trying to fill it out.\n",
    "- The country_code column also contains Null values but country column does not, which means that we can find out which countries are missing value a corresponding country code and fill them out.\n",
    "- The region column also contains Null values. Since this column might be useful in finding out which regions per country get loans, we'll try to find a way of filling them. Like using the most common region from that particular country, otherwise drop if not possible.\n",
    "- The partner_id column also contains Null values. These column might come in handy when working out how partners might help Kiva better understand their customers so I'll keep it. Dropping all data points with Nulls is quite considerable and would lead to a very high data loss, so I'll put that as a last resort.\n",
    "- The funded_time column also has Nulls. It represents the time a customer received money from a partner.\n",
    "- Since the tags column only contains string that somewhat are really hard to fill in, I'll drop this column."
   ]
  },
  {
   "cell_type": "code",
   "execution_count": 155,
   "metadata": {},
   "outputs": [],
   "source": [
    "loans = loans.drop('use', axis=1)"
   ]
  },
  {
   "cell_type": "code",
   "execution_count": 156,
   "metadata": {},
   "outputs": [
    {
     "data": {
      "text/plain": [
       "array(['Namibia'], dtype=object)"
      ]
     },
     "execution_count": 156,
     "metadata": {},
     "output_type": "execute_result"
    }
   ],
   "source": [
    "loans.loc[loans['country_code'].isnull(), 'country'].unique()"
   ]
  },
  {
   "cell_type": "code",
   "execution_count": 157,
   "metadata": {},
   "outputs": [],
   "source": [
    "# Only Namibia is missing a correspodning country code\n",
    "# From a Google search, I got that the country's ISO country code is NAM\n",
    "# So I'll fill that in.\n",
    "loans.loc[loans['country'] == 'Namibia', 'country_code'] = 'NAM'"
   ]
  },
  {
   "cell_type": "code",
   "execution_count": 158,
   "metadata": {},
   "outputs": [
    {
     "data": {
      "text/plain": [
       "56800"
      ]
     },
     "execution_count": 158,
     "metadata": {},
     "output_type": "execute_result"
    }
   ],
   "source": [
    "# Number of Nulls in the region column\n",
    "loans.loc[loans['region'].isnull(), 'country'].count()"
   ]
  },
  {
   "cell_type": "markdown",
   "metadata": {},
   "source": [
    "There's a total of 671205 data points in the entire dataset so just dropping these values (56800 of them) is not an option."
   ]
  },
  {
   "cell_type": "code",
   "execution_count": 159,
   "metadata": {},
   "outputs": [],
   "source": [
    "# Finding most common region in a country "
   ]
  },
  {
   "cell_type": "code",
   "execution_count": 160,
   "metadata": {},
   "outputs": [],
   "source": [
    "country_regions = loans.groupby(['country', 'region']).count()"
   ]
  },
  {
   "cell_type": "code",
   "execution_count": 161,
   "metadata": {},
   "outputs": [
    {
     "data": {
      "text/html": [
       "<div>\n",
       "<style scoped>\n",
       "    .dataframe tbody tr th:only-of-type {\n",
       "        vertical-align: middle;\n",
       "    }\n",
       "\n",
       "    .dataframe tbody tr th {\n",
       "        vertical-align: top;\n",
       "    }\n",
       "\n",
       "    .dataframe thead th {\n",
       "        text-align: right;\n",
       "    }\n",
       "</style>\n",
       "<table border=\"1\" class=\"dataframe\">\n",
       "  <thead>\n",
       "    <tr style=\"text-align: right;\">\n",
       "      <th></th>\n",
       "      <th></th>\n",
       "      <th>id</th>\n",
       "      <th>funded_amount</th>\n",
       "      <th>loan_amount</th>\n",
       "      <th>activity</th>\n",
       "      <th>sector</th>\n",
       "      <th>country_code</th>\n",
       "      <th>currency</th>\n",
       "      <th>partner_id</th>\n",
       "      <th>posted_time</th>\n",
       "      <th>disbursed_time</th>\n",
       "      <th>funded_time</th>\n",
       "      <th>term_in_months</th>\n",
       "      <th>lender_count</th>\n",
       "      <th>tags</th>\n",
       "      <th>borrower_genders</th>\n",
       "      <th>repayment_interval</th>\n",
       "      <th>date</th>\n",
       "    </tr>\n",
       "    <tr>\n",
       "      <th>country</th>\n",
       "      <th>region</th>\n",
       "      <th></th>\n",
       "      <th></th>\n",
       "      <th></th>\n",
       "      <th></th>\n",
       "      <th></th>\n",
       "      <th></th>\n",
       "      <th></th>\n",
       "      <th></th>\n",
       "      <th></th>\n",
       "      <th></th>\n",
       "      <th></th>\n",
       "      <th></th>\n",
       "      <th></th>\n",
       "      <th></th>\n",
       "      <th></th>\n",
       "      <th></th>\n",
       "      <th></th>\n",
       "    </tr>\n",
       "  </thead>\n",
       "  <tbody>\n",
       "    <tr>\n",
       "      <th>Afghanistan</th>\n",
       "      <th>Kandahar City</th>\n",
       "      <td>2</td>\n",
       "      <td>2</td>\n",
       "      <td>2</td>\n",
       "      <td>2</td>\n",
       "      <td>2</td>\n",
       "      <td>2</td>\n",
       "      <td>2</td>\n",
       "      <td>2</td>\n",
       "      <td>2</td>\n",
       "      <td>2</td>\n",
       "      <td>2</td>\n",
       "      <td>2</td>\n",
       "      <td>2</td>\n",
       "      <td>2</td>\n",
       "      <td>2</td>\n",
       "      <td>2</td>\n",
       "      <td>2</td>\n",
       "    </tr>\n",
       "    <tr>\n",
       "      <th rowspan=\"4\" valign=\"top\">Albania</th>\n",
       "      <th>Cerrik</th>\n",
       "      <td>1</td>\n",
       "      <td>1</td>\n",
       "      <td>1</td>\n",
       "      <td>1</td>\n",
       "      <td>1</td>\n",
       "      <td>1</td>\n",
       "      <td>1</td>\n",
       "      <td>1</td>\n",
       "      <td>1</td>\n",
       "      <td>1</td>\n",
       "      <td>1</td>\n",
       "      <td>1</td>\n",
       "      <td>1</td>\n",
       "      <td>1</td>\n",
       "      <td>1</td>\n",
       "      <td>1</td>\n",
       "      <td>1</td>\n",
       "    </tr>\n",
       "    <tr>\n",
       "      <th>Elbasan</th>\n",
       "      <td>243</td>\n",
       "      <td>243</td>\n",
       "      <td>243</td>\n",
       "      <td>243</td>\n",
       "      <td>243</td>\n",
       "      <td>243</td>\n",
       "      <td>243</td>\n",
       "      <td>243</td>\n",
       "      <td>243</td>\n",
       "      <td>243</td>\n",
       "      <td>206</td>\n",
       "      <td>243</td>\n",
       "      <td>243</td>\n",
       "      <td>224</td>\n",
       "      <td>243</td>\n",
       "      <td>243</td>\n",
       "      <td>243</td>\n",
       "    </tr>\n",
       "    <tr>\n",
       "      <th>Korce</th>\n",
       "      <td>753</td>\n",
       "      <td>753</td>\n",
       "      <td>753</td>\n",
       "      <td>753</td>\n",
       "      <td>753</td>\n",
       "      <td>753</td>\n",
       "      <td>753</td>\n",
       "      <td>753</td>\n",
       "      <td>753</td>\n",
       "      <td>753</td>\n",
       "      <td>661</td>\n",
       "      <td>753</td>\n",
       "      <td>753</td>\n",
       "      <td>698</td>\n",
       "      <td>753</td>\n",
       "      <td>753</td>\n",
       "      <td>753</td>\n",
       "    </tr>\n",
       "    <tr>\n",
       "      <th>Lac</th>\n",
       "      <td>122</td>\n",
       "      <td>122</td>\n",
       "      <td>122</td>\n",
       "      <td>122</td>\n",
       "      <td>122</td>\n",
       "      <td>122</td>\n",
       "      <td>122</td>\n",
       "      <td>122</td>\n",
       "      <td>122</td>\n",
       "      <td>122</td>\n",
       "      <td>109</td>\n",
       "      <td>122</td>\n",
       "      <td>122</td>\n",
       "      <td>120</td>\n",
       "      <td>122</td>\n",
       "      <td>122</td>\n",
       "      <td>122</td>\n",
       "    </tr>\n",
       "  </tbody>\n",
       "</table>\n",
       "</div>"
      ],
      "text/plain": [
       "                            id  funded_amount  loan_amount  activity  sector  \\\n",
       "country     region                                                             \n",
       "Afghanistan Kandahar City    2              2            2         2       2   \n",
       "Albania     Cerrik           1              1            1         1       1   \n",
       "            Elbasan        243            243          243       243     243   \n",
       "            Korce          753            753          753       753     753   \n",
       "            Lac            122            122          122       122     122   \n",
       "\n",
       "                           country_code  currency  partner_id  posted_time  \\\n",
       "country     region                                                           \n",
       "Afghanistan Kandahar City             2         2           2            2   \n",
       "Albania     Cerrik                    1         1           1            1   \n",
       "            Elbasan                 243       243         243          243   \n",
       "            Korce                   753       753         753          753   \n",
       "            Lac                     122       122         122          122   \n",
       "\n",
       "                           disbursed_time  funded_time  term_in_months  \\\n",
       "country     region                                                       \n",
       "Afghanistan Kandahar City               2            2               2   \n",
       "Albania     Cerrik                      1            1               1   \n",
       "            Elbasan                   243          206             243   \n",
       "            Korce                     753          661             753   \n",
       "            Lac                       122          109             122   \n",
       "\n",
       "                           lender_count  tags  borrower_genders  \\\n",
       "country     region                                                \n",
       "Afghanistan Kandahar City             2     2                 2   \n",
       "Albania     Cerrik                    1     1                 1   \n",
       "            Elbasan                 243   224               243   \n",
       "            Korce                   753   698               753   \n",
       "            Lac                     122   120               122   \n",
       "\n",
       "                           repayment_interval  date  \n",
       "country     region                                   \n",
       "Afghanistan Kandahar City                   2     2  \n",
       "Albania     Cerrik                          1     1  \n",
       "            Elbasan                       243   243  \n",
       "            Korce                         753   753  \n",
       "            Lac                           122   122  "
      ]
     },
     "execution_count": 161,
     "metadata": {},
     "output_type": "execute_result"
    }
   ],
   "source": [
    "country_regions.head()"
   ]
  },
  {
   "cell_type": "code",
   "execution_count": 162,
   "metadata": {},
   "outputs": [],
   "source": [
    "ids = country_regions['id']"
   ]
  },
  {
   "cell_type": "code",
   "execution_count": 163,
   "metadata": {},
   "outputs": [
    {
     "data": {
      "text/plain": [
       "country      region       \n",
       "Afghanistan  Kandahar City      2\n",
       "Albania      Cerrik             1\n",
       "             Elbasan          243\n",
       "             Korce            753\n",
       "             Lac              122\n",
       "Name: id, dtype: int64"
      ]
     },
     "execution_count": 163,
     "metadata": {},
     "output_type": "execute_result"
    }
   ],
   "source": [
    "ids.head()"
   ]
  },
  {
   "cell_type": "code",
   "execution_count": 164,
   "metadata": {},
   "outputs": [],
   "source": [
    "ids_counts = ids.max(level='country')"
   ]
  },
  {
   "cell_type": "code",
   "execution_count": 165,
   "metadata": {},
   "outputs": [
    {
     "data": {
      "text/plain": [
       "country\n",
       "Afghanistan       2\n",
       "Albania         753\n",
       "Armenia        1022\n",
       "Azerbaijan      845\n",
       "Belize           44\n",
       "Name: id, dtype: int64"
      ]
     },
     "execution_count": 165,
     "metadata": {},
     "output_type": "execute_result"
    }
   ],
   "source": [
    "ids_counts.head()"
   ]
  },
  {
   "cell_type": "code",
   "execution_count": 166,
   "metadata": {},
   "outputs": [],
   "source": [
    "countries = loans['country'].unique()"
   ]
  },
  {
   "cell_type": "code",
   "execution_count": 167,
   "metadata": {},
   "outputs": [],
   "source": [
    "most_common_countries_regions = {country: None for country in countries}"
   ]
  },
  {
   "cell_type": "code",
   "execution_count": 18,
   "metadata": {},
   "outputs": [],
   "source": [
    "for i in range(ids.size):\n",
    "    for j in range(ids_counts.size):\n",
    "        if ids.iloc[i] == ids_counts.iloc[j] and ids.index[i][0] == ids_counts.index[j]:\n",
    "            most_common_countries_regions[ids_counts.index[j]] = ids.index[i][1]\n",
    "            break"
   ]
  },
  {
   "cell_type": "code",
   "execution_count": 19,
   "metadata": {},
   "outputs": [
    {
     "data": {
      "text/plain": [
       "{'Pakistan': 'Lahore',\n",
       " 'India': 'Dhupguri',\n",
       " 'Kenya': 'Kisii',\n",
       " 'Nicaragua': 'Managua',\n",
       " 'El Salvador': 'San Miguel',\n",
       " 'Tanzania': 'Dar es Salaam',\n",
       " 'Philippines': 'Palo, Leyte',\n",
       " 'Peru': 'Cusco',\n",
       " 'Senegal': 'Ronkh',\n",
       " 'Cambodia': 'Battambang',\n",
       " 'Liberia': 'New Kru',\n",
       " 'Vietnam': 'Thanh Hoá',\n",
       " 'Iraq': None,\n",
       " 'Honduras': 'San Lorenzo',\n",
       " 'Palestine': 'Rafah city, Gaza Strip',\n",
       " 'Mongolia': 'Ulaanbaatar',\n",
       " 'United States': 'San Diego',\n",
       " 'Mali': 'Bamako',\n",
       " 'Colombia': 'Medellín',\n",
       " 'Tajikistan': 'Dushanbe',\n",
       " 'Guatemala': 'Solola',\n",
       " 'Ecuador': 'San Gabriel',\n",
       " 'Bolivia': 'La Paz',\n",
       " 'Yemen': \"Sana'a\",\n",
       " 'Ghana': 'Teshie, Accra',\n",
       " 'Sierra Leone': 'Freetown East',\n",
       " 'Haiti': 'Fontamara(Centre-Ville)',\n",
       " 'Chile': 'Cañete',\n",
       " 'Jordan': 'Irbid',\n",
       " 'Uganda': 'Kampala',\n",
       " 'Burundi': 'Bujumbura',\n",
       " 'Burkina Faso': 'Gounghin, Ouagadougou',\n",
       " 'Timor-Leste': 'Oe-cusse',\n",
       " 'Indonesia': 'Tangerang',\n",
       " 'Georgia': 'Tbilisi',\n",
       " 'Ukraine': 'Vinogradovo',\n",
       " 'Kosovo': None,\n",
       " 'Albania': 'Korce',\n",
       " 'The Democratic Republic of the Congo': 'Goma, North Kivu province',\n",
       " 'Costa Rica': 'Alajuela',\n",
       " 'Somalia': 'Hargeisa',\n",
       " 'Zimbabwe': 'Harare',\n",
       " 'Cameroon': 'Yaoundé',\n",
       " 'Turkey': 'Eskişehir',\n",
       " 'Azerbaijan': 'Bilasuvar',\n",
       " 'Dominican Republic': 'La Romana',\n",
       " 'Brazil': 'Maua',\n",
       " 'Mexico': 'Monterrey',\n",
       " 'Kyrgyzstan': 'Bishkek',\n",
       " 'Armenia': 'Gegharkunik region',\n",
       " 'Paraguay': 'Ita',\n",
       " 'Lebanon': 'Aley',\n",
       " 'Samoa': 'Vailele',\n",
       " 'Israel': 'Negev',\n",
       " 'Rwanda': 'Kigali',\n",
       " 'Zambia': 'Lusaka',\n",
       " 'Nepal': 'SainbuBhaishepati',\n",
       " 'Congo': 'Brazzaville',\n",
       " 'Mozambique': 'Boane, Maputo',\n",
       " 'South Africa': 'Johannesburg',\n",
       " 'Togo': 'Adidogomé',\n",
       " 'Benin': 'Porto-Novo',\n",
       " 'Belize': 'San Jose',\n",
       " 'Suriname': 'Nickerie',\n",
       " 'Thailand': 'Chiang Rai',\n",
       " 'Nigeria': 'Kaduna',\n",
       " 'Mauritania': 'Wouloumbouni',\n",
       " 'Vanuatu': 'Rakatne',\n",
       " 'Panama': 'Chiriquí',\n",
       " 'Virgin Islands': None,\n",
       " 'Saint Vincent and the Grenadines': 'Kingstown',\n",
       " \"Lao People's Democratic Republic\": 'Laos',\n",
       " 'Malawi': 'Blantyre',\n",
       " 'Myanmar (Burma)': 'Pakokku',\n",
       " 'Moldova': 'Ungheni',\n",
       " 'South Sudan': 'Mundri',\n",
       " 'Solomon Islands': 'Honiara',\n",
       " 'China': 'NanChong',\n",
       " 'Egypt': 'Baniswef',\n",
       " 'Guam': None,\n",
       " 'Afghanistan': 'Kandahar City',\n",
       " 'Madagascar': 'Antananarivo',\n",
       " 'Namibia': 'Rundu',\n",
       " 'Puerto Rico': None,\n",
       " 'Lesotho': 'TY,Berea',\n",
       " \"Cote D'Ivoire\": 'Kolia',\n",
       " 'Bhutan': 'Thimphu'}"
      ]
     },
     "execution_count": 19,
     "metadata": {},
     "output_type": "execute_result"
    }
   ],
   "source": [
    "most_common_countries_regions"
   ]
  },
  {
   "cell_type": "markdown",
   "metadata": {},
   "source": [
    "- Was able to get the most common regions per country but couldn't come up with a way to fill in all the Null values in the region columns with repect to most common region for it's respective country. I'll just drop them an continue with my analysis.\n",
    "- I don't really recommend this considering how much data will be lost but it's my only option at the moment."
   ]
  },
  {
   "cell_type": "code",
   "execution_count": 168,
   "metadata": {},
   "outputs": [],
   "source": [
    "loans = loans.dropna(subset=['region'])"
   ]
  },
  {
   "cell_type": "code",
   "execution_count": 169,
   "metadata": {},
   "outputs": [
    {
     "data": {
      "text/html": [
       "<div>\n",
       "<style scoped>\n",
       "    .dataframe tbody tr th:only-of-type {\n",
       "        vertical-align: middle;\n",
       "    }\n",
       "\n",
       "    .dataframe tbody tr th {\n",
       "        vertical-align: top;\n",
       "    }\n",
       "\n",
       "    .dataframe thead th {\n",
       "        text-align: right;\n",
       "    }\n",
       "</style>\n",
       "<table border=\"1\" class=\"dataframe\">\n",
       "  <thead>\n",
       "    <tr style=\"text-align: right;\">\n",
       "      <th></th>\n",
       "      <th>id</th>\n",
       "      <th>funded_amount</th>\n",
       "      <th>loan_amount</th>\n",
       "      <th>activity</th>\n",
       "      <th>sector</th>\n",
       "      <th>country_code</th>\n",
       "      <th>country</th>\n",
       "      <th>region</th>\n",
       "      <th>currency</th>\n",
       "      <th>partner_id</th>\n",
       "      <th>posted_time</th>\n",
       "      <th>disbursed_time</th>\n",
       "      <th>funded_time</th>\n",
       "      <th>term_in_months</th>\n",
       "      <th>lender_count</th>\n",
       "      <th>tags</th>\n",
       "      <th>borrower_genders</th>\n",
       "      <th>repayment_interval</th>\n",
       "      <th>date</th>\n",
       "    </tr>\n",
       "  </thead>\n",
       "  <tbody>\n",
       "  </tbody>\n",
       "</table>\n",
       "</div>"
      ],
      "text/plain": [
       "Empty DataFrame\n",
       "Columns: [id, funded_amount, loan_amount, activity, sector, country_code, country, region, currency, partner_id, posted_time, disbursed_time, funded_time, term_in_months, lender_count, tags, borrower_genders, repayment_interval, date]\n",
       "Index: []"
      ]
     },
     "execution_count": 169,
     "metadata": {},
     "output_type": "execute_result"
    }
   ],
   "source": [
    "# partner_id\n",
    "loans.loc[loans['partner_id'].isnull()].head()"
   ]
  },
  {
   "cell_type": "code",
   "execution_count": 170,
   "metadata": {},
   "outputs": [
    {
     "data": {
      "text/plain": [
       "0"
      ]
     },
     "execution_count": 170,
     "metadata": {},
     "output_type": "execute_result"
    }
   ],
   "source": [
    "# Number of partner_id missing\n",
    "loans.loc[loans['partner_id'].isnull(), 'country'].count()"
   ]
  },
  {
   "cell_type": "markdown",
   "metadata": {},
   "source": [
    "- Trying to fill in these Nulls would require the same steps as trying to fill in the Nulls of regions, so until I find a solution to that problem I'll have to drop them."
   ]
  },
  {
   "cell_type": "code",
   "execution_count": 171,
   "metadata": {},
   "outputs": [],
   "source": [
    "loans = loans.dropna(subset=['partner_id'])"
   ]
  },
  {
   "cell_type": "code",
   "execution_count": 172,
   "metadata": {},
   "outputs": [
    {
     "data": {
      "text/plain": [
       "40278"
      ]
     },
     "execution_count": 172,
     "metadata": {},
     "output_type": "execute_result"
    }
   ],
   "source": [
    "# funded_time\n",
    "loans.loc[loans['funded_time'].isnull(), 'country'].count()"
   ]
  },
  {
   "cell_type": "markdown",
   "metadata": {},
   "source": [
    "- Judging from the number and the amount of data points left. I'll leave it as it is."
   ]
  },
  {
   "cell_type": "code",
   "execution_count": 173,
   "metadata": {},
   "outputs": [],
   "source": [
    "# tags\n",
    "loans = loans.drop('tags', axis=1)"
   ]
  },
  {
   "cell_type": "code",
   "execution_count": 174,
   "metadata": {},
   "outputs": [
    {
     "data": {
      "text/plain": [
       "id                    False\n",
       "funded_amount         False\n",
       "loan_amount           False\n",
       "activity              False\n",
       "sector                False\n",
       "country_code          False\n",
       "country               False\n",
       "region                False\n",
       "currency              False\n",
       "partner_id            False\n",
       "posted_time           False\n",
       "disbursed_time        False\n",
       "funded_time            True\n",
       "term_in_months        False\n",
       "lender_count          False\n",
       "borrower_genders      False\n",
       "repayment_interval    False\n",
       "date                  False\n",
       "dtype: bool"
      ]
     },
     "execution_count": 174,
     "metadata": {},
     "output_type": "execute_result"
    }
   ],
   "source": [
    "# check for nulls\n",
    "loans.isnull().any()"
   ]
  },
  {
   "cell_type": "markdown",
   "metadata": {},
   "source": [
    "- Since most of the Nulls have been dealt with. I'll move on to customer analysis."
   ]
  },
  {
   "cell_type": "markdown",
   "metadata": {},
   "source": [
    "# Customer Analysis "
   ]
  },
  {
   "cell_type": "code",
   "execution_count": 175,
   "metadata": {},
   "outputs": [
    {
     "data": {
      "text/html": [
       "<div>\n",
       "<style scoped>\n",
       "    .dataframe tbody tr th:only-of-type {\n",
       "        vertical-align: middle;\n",
       "    }\n",
       "\n",
       "    .dataframe tbody tr th {\n",
       "        vertical-align: top;\n",
       "    }\n",
       "\n",
       "    .dataframe thead th {\n",
       "        text-align: right;\n",
       "    }\n",
       "</style>\n",
       "<table border=\"1\" class=\"dataframe\">\n",
       "  <thead>\n",
       "    <tr style=\"text-align: right;\">\n",
       "      <th></th>\n",
       "      <th>id</th>\n",
       "      <th>funded_amount</th>\n",
       "      <th>loan_amount</th>\n",
       "      <th>activity</th>\n",
       "      <th>sector</th>\n",
       "      <th>country_code</th>\n",
       "      <th>country</th>\n",
       "      <th>region</th>\n",
       "      <th>currency</th>\n",
       "      <th>partner_id</th>\n",
       "      <th>posted_time</th>\n",
       "      <th>disbursed_time</th>\n",
       "      <th>funded_time</th>\n",
       "      <th>term_in_months</th>\n",
       "      <th>lender_count</th>\n",
       "      <th>borrower_genders</th>\n",
       "      <th>repayment_interval</th>\n",
       "      <th>date</th>\n",
       "    </tr>\n",
       "  </thead>\n",
       "  <tbody>\n",
       "    <tr>\n",
       "      <th>0</th>\n",
       "      <td>653051</td>\n",
       "      <td>300.0</td>\n",
       "      <td>300.0</td>\n",
       "      <td>Fruits &amp; Vegetables</td>\n",
       "      <td>Food</td>\n",
       "      <td>PK</td>\n",
       "      <td>Pakistan</td>\n",
       "      <td>Lahore</td>\n",
       "      <td>PKR</td>\n",
       "      <td>247.0</td>\n",
       "      <td>2014-01-01 06:12:39+00:00</td>\n",
       "      <td>2013-12-17 08:00:00+00:00</td>\n",
       "      <td>2014-01-02 10:06:32+00:00</td>\n",
       "      <td>12.0</td>\n",
       "      <td>12</td>\n",
       "      <td>female</td>\n",
       "      <td>irregular</td>\n",
       "      <td>2014-01-01</td>\n",
       "    </tr>\n",
       "    <tr>\n",
       "      <th>1</th>\n",
       "      <td>653053</td>\n",
       "      <td>575.0</td>\n",
       "      <td>575.0</td>\n",
       "      <td>Rickshaw</td>\n",
       "      <td>Transportation</td>\n",
       "      <td>PK</td>\n",
       "      <td>Pakistan</td>\n",
       "      <td>Lahore</td>\n",
       "      <td>PKR</td>\n",
       "      <td>247.0</td>\n",
       "      <td>2014-01-01 06:51:08+00:00</td>\n",
       "      <td>2013-12-17 08:00:00+00:00</td>\n",
       "      <td>2014-01-02 09:17:23+00:00</td>\n",
       "      <td>11.0</td>\n",
       "      <td>14</td>\n",
       "      <td>female, female</td>\n",
       "      <td>irregular</td>\n",
       "      <td>2014-01-01</td>\n",
       "    </tr>\n",
       "    <tr>\n",
       "      <th>2</th>\n",
       "      <td>653068</td>\n",
       "      <td>150.0</td>\n",
       "      <td>150.0</td>\n",
       "      <td>Transportation</td>\n",
       "      <td>Transportation</td>\n",
       "      <td>IN</td>\n",
       "      <td>India</td>\n",
       "      <td>Maynaguri</td>\n",
       "      <td>INR</td>\n",
       "      <td>334.0</td>\n",
       "      <td>2014-01-01 09:58:07+00:00</td>\n",
       "      <td>2013-12-17 08:00:00+00:00</td>\n",
       "      <td>2014-01-01 16:01:36+00:00</td>\n",
       "      <td>43.0</td>\n",
       "      <td>6</td>\n",
       "      <td>female</td>\n",
       "      <td>bullet</td>\n",
       "      <td>2014-01-01</td>\n",
       "    </tr>\n",
       "    <tr>\n",
       "      <th>3</th>\n",
       "      <td>653063</td>\n",
       "      <td>200.0</td>\n",
       "      <td>200.0</td>\n",
       "      <td>Embroidery</td>\n",
       "      <td>Arts</td>\n",
       "      <td>PK</td>\n",
       "      <td>Pakistan</td>\n",
       "      <td>Lahore</td>\n",
       "      <td>PKR</td>\n",
       "      <td>247.0</td>\n",
       "      <td>2014-01-01 08:03:11+00:00</td>\n",
       "      <td>2013-12-24 08:00:00+00:00</td>\n",
       "      <td>2014-01-01 13:00:00+00:00</td>\n",
       "      <td>11.0</td>\n",
       "      <td>8</td>\n",
       "      <td>female</td>\n",
       "      <td>irregular</td>\n",
       "      <td>2014-01-01</td>\n",
       "    </tr>\n",
       "    <tr>\n",
       "      <th>4</th>\n",
       "      <td>653084</td>\n",
       "      <td>400.0</td>\n",
       "      <td>400.0</td>\n",
       "      <td>Milk Sales</td>\n",
       "      <td>Food</td>\n",
       "      <td>PK</td>\n",
       "      <td>Pakistan</td>\n",
       "      <td>Abdul Hakeem</td>\n",
       "      <td>PKR</td>\n",
       "      <td>245.0</td>\n",
       "      <td>2014-01-01 11:53:19+00:00</td>\n",
       "      <td>2013-12-17 08:00:00+00:00</td>\n",
       "      <td>2014-01-01 19:18:51+00:00</td>\n",
       "      <td>14.0</td>\n",
       "      <td>16</td>\n",
       "      <td>female</td>\n",
       "      <td>monthly</td>\n",
       "      <td>2014-01-01</td>\n",
       "    </tr>\n",
       "  </tbody>\n",
       "</table>\n",
       "</div>"
      ],
      "text/plain": [
       "       id  funded_amount  loan_amount             activity          sector  \\\n",
       "0  653051          300.0        300.0  Fruits & Vegetables            Food   \n",
       "1  653053          575.0        575.0             Rickshaw  Transportation   \n",
       "2  653068          150.0        150.0       Transportation  Transportation   \n",
       "3  653063          200.0        200.0           Embroidery            Arts   \n",
       "4  653084          400.0        400.0           Milk Sales            Food   \n",
       "\n",
       "  country_code   country        region currency  partner_id  \\\n",
       "0           PK  Pakistan        Lahore      PKR       247.0   \n",
       "1           PK  Pakistan        Lahore      PKR       247.0   \n",
       "2           IN     India     Maynaguri      INR       334.0   \n",
       "3           PK  Pakistan        Lahore      PKR       247.0   \n",
       "4           PK  Pakistan  Abdul Hakeem      PKR       245.0   \n",
       "\n",
       "                 posted_time             disbursed_time  \\\n",
       "0  2014-01-01 06:12:39+00:00  2013-12-17 08:00:00+00:00   \n",
       "1  2014-01-01 06:51:08+00:00  2013-12-17 08:00:00+00:00   \n",
       "2  2014-01-01 09:58:07+00:00  2013-12-17 08:00:00+00:00   \n",
       "3  2014-01-01 08:03:11+00:00  2013-12-24 08:00:00+00:00   \n",
       "4  2014-01-01 11:53:19+00:00  2013-12-17 08:00:00+00:00   \n",
       "\n",
       "                 funded_time  term_in_months  lender_count borrower_genders  \\\n",
       "0  2014-01-02 10:06:32+00:00            12.0            12           female   \n",
       "1  2014-01-02 09:17:23+00:00            11.0            14   female, female   \n",
       "2  2014-01-01 16:01:36+00:00            43.0             6           female   \n",
       "3  2014-01-01 13:00:00+00:00            11.0             8           female   \n",
       "4  2014-01-01 19:18:51+00:00            14.0            16           female   \n",
       "\n",
       "  repayment_interval        date  \n",
       "0          irregular  2014-01-01  \n",
       "1          irregular  2014-01-01  \n",
       "2             bullet  2014-01-01  \n",
       "3          irregular  2014-01-01  \n",
       "4            monthly  2014-01-01  "
      ]
     },
     "execution_count": 175,
     "metadata": {},
     "output_type": "execute_result"
    }
   ],
   "source": [
    "loans.head()"
   ]
  },
  {
   "cell_type": "code",
   "execution_count": 176,
   "metadata": {},
   "outputs": [
    {
     "data": {
      "text/plain": [
       "array(['Food', 'Transportation', 'Arts', 'Agriculture', 'Services',\n",
       "       'Manufacturing', 'Wholesale', 'Retail', 'Clothing', 'Construction',\n",
       "       'Health', 'Education', 'Personal Use', 'Housing', 'Entertainment'],\n",
       "      dtype=object)"
      ]
     },
     "execution_count": 176,
     "metadata": {},
     "output_type": "execute_result"
    }
   ],
   "source": [
    "# sectors potentially describing the reason why money is borrowed.\n",
    "loans['sector'].unique()"
   ]
  },
  {
   "cell_type": "code",
   "execution_count": 177,
   "metadata": {},
   "outputs": [
    {
     "data": {
      "text/plain": [
       "15"
      ]
     },
     "execution_count": 177,
     "metadata": {},
     "output_type": "execute_result"
    }
   ],
   "source": [
    "# The number of sectors.\n",
    "len(loans['sector'].unique())"
   ]
  },
  {
   "cell_type": "code",
   "execution_count": 178,
   "metadata": {},
   "outputs": [
    {
     "data": {
      "text/plain": [
       "sector\n",
       "Agriculture       122953400.0\n",
       "Food               95321825.0\n",
       "Retail             78270625.0\n",
       "Services           34272400.0\n",
       "Clothing           30198600.0\n",
       "Education          27828200.0\n",
       "Housing            18496725.0\n",
       "Personal Use       13748900.0\n",
       "Arts               10142600.0\n",
       "Transportation      9263525.0\n",
       "Health              8236700.0\n",
       "Construction        5498425.0\n",
       "Manufacturing       4858000.0\n",
       "Wholesale            865675.0\n",
       "Entertainment        608150.0\n",
       "Name: funded_amount, dtype: float64"
      ]
     },
     "execution_count": 178,
     "metadata": {},
     "output_type": "execute_result"
    }
   ],
   "source": [
    "# Total funded amount per sector\n",
    "funded_amount_per_sector = loans.groupby(['sector'])['funded_amount'].sum()\n",
    "funded_amount_per_sector.sort_values(ascending=False)"
   ]
  },
  {
   "cell_type": "markdown",
   "metadata": {},
   "source": [
    "- Most funding goes towards supporting Agriculture related activities. So I can assume that most customers are food farmers on average.\n",
    "- The least funding goes to Entertainment sector."
   ]
  },
  {
   "cell_type": "code",
   "execution_count": 179,
   "metadata": {},
   "outputs": [
    {
     "data": {
      "text/html": [
       "<div>\n",
       "<style scoped>\n",
       "    .dataframe tbody tr th:only-of-type {\n",
       "        vertical-align: middle;\n",
       "    }\n",
       "\n",
       "    .dataframe tbody tr th {\n",
       "        vertical-align: top;\n",
       "    }\n",
       "\n",
       "    .dataframe thead th {\n",
       "        text-align: right;\n",
       "    }\n",
       "</style>\n",
       "<table border=\"1\" class=\"dataframe\">\n",
       "  <thead>\n",
       "    <tr style=\"text-align: right;\">\n",
       "      <th></th>\n",
       "      <th></th>\n",
       "      <th>id</th>\n",
       "      <th>funded_amount</th>\n",
       "      <th>loan_amount</th>\n",
       "      <th>partner_id</th>\n",
       "      <th>term_in_months</th>\n",
       "      <th>lender_count</th>\n",
       "    </tr>\n",
       "    <tr>\n",
       "      <th>country</th>\n",
       "      <th>sector</th>\n",
       "      <th></th>\n",
       "      <th></th>\n",
       "      <th></th>\n",
       "      <th></th>\n",
       "      <th></th>\n",
       "      <th></th>\n",
       "    </tr>\n",
       "  </thead>\n",
       "  <tbody>\n",
       "    <tr>\n",
       "      <th>Afghanistan</th>\n",
       "      <th>Arts</th>\n",
       "      <td>1829155</td>\n",
       "      <td>14000.0</td>\n",
       "      <td>14000.0</td>\n",
       "      <td>824.0</td>\n",
       "      <td>14.0</td>\n",
       "      <td>512</td>\n",
       "    </tr>\n",
       "    <tr>\n",
       "      <th rowspan=\"4\" valign=\"top\">Albania</th>\n",
       "      <th>Agriculture</th>\n",
       "      <td>561641603</td>\n",
       "      <td>837775.0</td>\n",
       "      <td>865525.0</td>\n",
       "      <td>147224.0</td>\n",
       "      <td>14737.0</td>\n",
       "      <td>27847</td>\n",
       "    </tr>\n",
       "    <tr>\n",
       "      <th>Arts</th>\n",
       "      <td>3806186</td>\n",
       "      <td>6725.0</td>\n",
       "      <td>6725.0</td>\n",
       "      <td>956.0</td>\n",
       "      <td>90.0</td>\n",
       "      <td>231</td>\n",
       "    </tr>\n",
       "    <tr>\n",
       "      <th>Clothing</th>\n",
       "      <td>62563243</td>\n",
       "      <td>120900.0</td>\n",
       "      <td>128450.0</td>\n",
       "      <td>15372.0</td>\n",
       "      <td>1599.0</td>\n",
       "      <td>3969</td>\n",
       "    </tr>\n",
       "    <tr>\n",
       "      <th>Construction</th>\n",
       "      <td>23482091</td>\n",
       "      <td>32675.0</td>\n",
       "      <td>35000.0</td>\n",
       "      <td>6214.0</td>\n",
       "      <td>562.0</td>\n",
       "      <td>1073</td>\n",
       "    </tr>\n",
       "    <tr>\n",
       "      <th>...</th>\n",
       "      <th>...</th>\n",
       "      <td>...</td>\n",
       "      <td>...</td>\n",
       "      <td>...</td>\n",
       "      <td>...</td>\n",
       "      <td>...</td>\n",
       "      <td>...</td>\n",
       "    </tr>\n",
       "    <tr>\n",
       "      <th rowspan=\"5\" valign=\"top\">Zimbabwe</th>\n",
       "      <th>Personal Use</th>\n",
       "      <td>959926</td>\n",
       "      <td>1400.0</td>\n",
       "      <td>1400.0</td>\n",
       "      <td>367.0</td>\n",
       "      <td>8.0</td>\n",
       "      <td>26</td>\n",
       "    </tr>\n",
       "    <tr>\n",
       "      <th>Retail</th>\n",
       "      <td>728415184</td>\n",
       "      <td>757525.0</td>\n",
       "      <td>790150.0</td>\n",
       "      <td>241858.0</td>\n",
       "      <td>7074.0</td>\n",
       "      <td>22010</td>\n",
       "    </tr>\n",
       "    <tr>\n",
       "      <th>Services</th>\n",
       "      <td>228551103</td>\n",
       "      <td>209025.0</td>\n",
       "      <td>219775.0</td>\n",
       "      <td>73694.0</td>\n",
       "      <td>2133.0</td>\n",
       "      <td>6435</td>\n",
       "    </tr>\n",
       "    <tr>\n",
       "      <th>Transportation</th>\n",
       "      <td>8988325</td>\n",
       "      <td>11550.0</td>\n",
       "      <td>11550.0</td>\n",
       "      <td>3320.0</td>\n",
       "      <td>79.0</td>\n",
       "      <td>394</td>\n",
       "    </tr>\n",
       "    <tr>\n",
       "      <th>Wholesale</th>\n",
       "      <td>14531442</td>\n",
       "      <td>22300.0</td>\n",
       "      <td>22300.0</td>\n",
       "      <td>5748.0</td>\n",
       "      <td>137.0</td>\n",
       "      <td>692</td>\n",
       "    </tr>\n",
       "  </tbody>\n",
       "</table>\n",
       "<p>915 rows × 6 columns</p>\n",
       "</div>"
      ],
      "text/plain": [
       "                                   id  funded_amount  loan_amount  partner_id  \\\n",
       "country     sector                                                              \n",
       "Afghanistan Arts              1829155        14000.0      14000.0       824.0   \n",
       "Albania     Agriculture     561641603       837775.0     865525.0    147224.0   \n",
       "            Arts              3806186         6725.0       6725.0       956.0   \n",
       "            Clothing         62563243       120900.0     128450.0     15372.0   \n",
       "            Construction     23482091        32675.0      35000.0      6214.0   \n",
       "...                               ...            ...          ...         ...   \n",
       "Zimbabwe    Personal Use       959926         1400.0       1400.0       367.0   \n",
       "            Retail          728415184       757525.0     790150.0    241858.0   \n",
       "            Services        228551103       209025.0     219775.0     73694.0   \n",
       "            Transportation    8988325        11550.0      11550.0      3320.0   \n",
       "            Wholesale        14531442        22300.0      22300.0      5748.0   \n",
       "\n",
       "                            term_in_months  lender_count  \n",
       "country     sector                                        \n",
       "Afghanistan Arts                      14.0           512  \n",
       "Albania     Agriculture            14737.0         27847  \n",
       "            Arts                      90.0           231  \n",
       "            Clothing                1599.0          3969  \n",
       "            Construction             562.0          1073  \n",
       "...                                    ...           ...  \n",
       "Zimbabwe    Personal Use               8.0            26  \n",
       "            Retail                  7074.0         22010  \n",
       "            Services                2133.0          6435  \n",
       "            Transportation            79.0           394  \n",
       "            Wholesale                137.0           692  \n",
       "\n",
       "[915 rows x 6 columns]"
      ]
     },
     "execution_count": 179,
     "metadata": {},
     "output_type": "execute_result"
    }
   ],
   "source": [
    "# Most funded sector per country. This should help in understaing which economic sector\n",
    "# most customers are engaged in per country. This can more accurately be found by counting\n",
    "# the number of ids, but I'll be using funded_amount column.\n",
    "country_sector = loans.groupby(['country', 'sector']).sum()\n",
    "country_sector"
   ]
  },
  {
   "cell_type": "code",
   "execution_count": 180,
   "metadata": {},
   "outputs": [
    {
     "data": {
      "text/plain": [
       "country      sector        \n",
       "Afghanistan  Arts               14000.0\n",
       "Albania      Agriculture       837775.0\n",
       "             Arts                6725.0\n",
       "             Clothing          120900.0\n",
       "             Construction       32675.0\n",
       "                                 ...   \n",
       "Zimbabwe     Personal Use        1400.0\n",
       "             Retail            757525.0\n",
       "             Services          209025.0\n",
       "             Transportation     11550.0\n",
       "             Wholesale          22300.0\n",
       "Name: funded_amount, Length: 915, dtype: float64"
      ]
     },
     "execution_count": 180,
     "metadata": {},
     "output_type": "execute_result"
    }
   ],
   "source": [
    "funded_amount_counts = country_sector['funded_amount']\n",
    "funded_amount_counts"
   ]
  },
  {
   "cell_type": "code",
   "execution_count": 181,
   "metadata": {},
   "outputs": [
    {
     "data": {
      "text/plain": [
       "country\n",
       "Afghanistan      14000.0\n",
       "Albania         837775.0\n",
       "Armenia        6603425.0\n",
       "Azerbaijan     1472500.0\n",
       "Belize          111975.0\n",
       "                 ...    \n",
       "Vanuatu           9250.0\n",
       "Vietnam        4714375.0\n",
       "Yemen           398550.0\n",
       "Zambia          697775.0\n",
       "Zimbabwe        808500.0\n",
       "Name: funded_amount, Length: 82, dtype: float64"
      ]
     },
     "execution_count": 181,
     "metadata": {},
     "output_type": "execute_result"
    }
   ],
   "source": [
    "funded_amount_counts_top = funded_amount_counts.max(level='country')\n",
    "funded_amount_counts_top"
   ]
  },
  {
   "cell_type": "code",
   "execution_count": 182,
   "metadata": {},
   "outputs": [],
   "source": [
    "top_funded_sector_country = {country: None for country in countries}"
   ]
  },
  {
   "cell_type": "code",
   "execution_count": 183,
   "metadata": {},
   "outputs": [],
   "source": [
    "for i in range(funded_amount_counts.size):\n",
    "    for j in range(funded_amount_counts_top.size):\n",
    "        if funded_amount_counts.iloc[i] == funded_amount_counts_top.iloc[j] and funded_amount_counts.index[i][0] == funded_amount_counts_top.index[j]:\n",
    "            top_funded_sector_country[funded_amount_counts_top.index[j]] = funded_amount_counts.index[i][1]\n",
    "            break"
   ]
  },
  {
   "cell_type": "code",
   "execution_count": 184,
   "metadata": {},
   "outputs": [
    {
     "data": {
      "text/plain": [
       "{'Pakistan': 'Services',\n",
       " 'India': 'Agriculture',\n",
       " 'Kenya': 'Agriculture',\n",
       " 'Nicaragua': 'Food',\n",
       " 'El Salvador': 'Agriculture',\n",
       " 'Tanzania': 'Food',\n",
       " 'Philippines': 'Retail',\n",
       " 'Peru': 'Food',\n",
       " 'Senegal': 'Agriculture',\n",
       " 'Cambodia': 'Agriculture',\n",
       " 'Liberia': 'Food',\n",
       " 'Vietnam': 'Agriculture',\n",
       " 'Iraq': None,\n",
       " 'Honduras': 'Agriculture',\n",
       " 'Palestine': 'Education',\n",
       " 'Mongolia': 'Housing',\n",
       " 'United States': 'Services',\n",
       " 'Mali': 'Agriculture',\n",
       " 'Colombia': 'Agriculture',\n",
       " 'Tajikistan': 'Agriculture',\n",
       " 'Guatemala': 'Agriculture',\n",
       " 'Ecuador': 'Agriculture',\n",
       " 'Bolivia': 'Food',\n",
       " 'Yemen': 'Personal Use',\n",
       " 'Ghana': 'Food',\n",
       " 'Sierra Leone': 'Food',\n",
       " 'Haiti': 'Retail',\n",
       " 'Chile': 'Health',\n",
       " 'Jordan': 'Education',\n",
       " 'Uganda': 'Agriculture',\n",
       " 'Burundi': 'Food',\n",
       " 'Burkina Faso': 'Food',\n",
       " 'Timor-Leste': 'Retail',\n",
       " 'Indonesia': 'Agriculture',\n",
       " 'Georgia': 'Agriculture',\n",
       " 'Ukraine': 'Agriculture',\n",
       " 'Kosovo': None,\n",
       " 'Albania': 'Agriculture',\n",
       " 'The Democratic Republic of the Congo': 'Food',\n",
       " 'Costa Rica': 'Agriculture',\n",
       " 'Somalia': 'Retail',\n",
       " 'Zimbabwe': 'Agriculture',\n",
       " 'Cameroon': 'Food',\n",
       " 'Turkey': 'Services',\n",
       " 'Azerbaijan': 'Agriculture',\n",
       " 'Dominican Republic': 'Education',\n",
       " 'Brazil': 'Retail',\n",
       " 'Mexico': 'Agriculture',\n",
       " 'Kyrgyzstan': 'Agriculture',\n",
       " 'Armenia': 'Agriculture',\n",
       " 'Paraguay': 'Food',\n",
       " 'Lebanon': 'Education',\n",
       " 'Samoa': 'Agriculture',\n",
       " 'Israel': 'Services',\n",
       " 'Rwanda': 'Agriculture',\n",
       " 'Zambia': 'Services',\n",
       " 'Nepal': 'Food',\n",
       " 'Congo': 'Food',\n",
       " 'Mozambique': 'Housing',\n",
       " 'South Africa': 'Education',\n",
       " 'Togo': 'Retail',\n",
       " 'Benin': 'Agriculture',\n",
       " 'Belize': 'Agriculture',\n",
       " 'Suriname': 'Agriculture',\n",
       " 'Thailand': 'Agriculture',\n",
       " 'Nigeria': 'Agriculture',\n",
       " 'Mauritania': 'Services',\n",
       " 'Vanuatu': 'Personal Use',\n",
       " 'Panama': 'Agriculture',\n",
       " 'Virgin Islands': None,\n",
       " 'Saint Vincent and the Grenadines': 'Food',\n",
       " \"Lao People's Democratic Republic\": 'Personal Use',\n",
       " 'Malawi': 'Food',\n",
       " 'Myanmar (Burma)': 'Agriculture',\n",
       " 'Moldova': 'Agriculture',\n",
       " 'South Sudan': 'Health',\n",
       " 'Solomon Islands': 'Retail',\n",
       " 'China': 'Agriculture',\n",
       " 'Egypt': 'Agriculture',\n",
       " 'Guam': None,\n",
       " 'Afghanistan': 'Arts',\n",
       " 'Madagascar': 'Agriculture',\n",
       " 'Namibia': 'Wholesale',\n",
       " 'Puerto Rico': None,\n",
       " 'Lesotho': 'Personal Use',\n",
       " \"Cote D'Ivoire\": 'Agriculture',\n",
       " 'Bhutan': 'Arts'}"
      ]
     },
     "execution_count": 184,
     "metadata": {},
     "output_type": "execute_result"
    }
   ],
   "source": [
    "top_funded_sector_country"
   ]
  },
  {
   "cell_type": "markdown",
   "metadata": {},
   "source": [
    "- The above dictionary shows the most funded sector per country, although some contain None which might be due to dropping of Nulls in the initial section."
   ]
  },
  {
   "cell_type": "code",
   "execution_count": 185,
   "metadata": {},
   "outputs": [
    {
     "data": {
      "text/plain": [
       "country\n",
       "Afghanistan       512\n",
       "Albania         68750\n",
       "Armenia        320395\n",
       "Azerbaijan      76336\n",
       "Belize           4106\n",
       "                ...  \n",
       "Vanuatu           340\n",
       "Vietnam        404103\n",
       "Yemen           48074\n",
       "Zambia          35983\n",
       "Zimbabwe        99241\n",
       "Name: lender_count, Length: 82, dtype: int64"
      ]
     },
     "execution_count": 185,
     "metadata": {},
     "output_type": "execute_result"
    }
   ],
   "source": [
    "# Countries with the highest and lowest total lender count\n",
    "lender_counts = loans.groupby(['country'])['lender_count'].sum()\n",
    "lender_counts"
   ]
  },
  {
   "cell_type": "code",
   "execution_count": 186,
   "metadata": {},
   "outputs": [],
   "source": [
    "max_count = lender_counts.max()\n",
    "min_count = lender_counts.min()"
   ]
  },
  {
   "cell_type": "code",
   "execution_count": 187,
   "metadata": {},
   "outputs": [],
   "source": [
    "for i in range(lender_counts.size):\n",
    "    if lender_counts.iloc[i] == max_count:\n",
    "        max_country = lender_counts.index[i]\n",
    "    elif lender_counts.iloc[i] == min_count:\n",
    "        min_country = lender_counts.index[i]"
   ]
  },
  {
   "cell_type": "code",
   "execution_count": 188,
   "metadata": {},
   "outputs": [
    {
     "name": "stdout",
     "output_type": "stream",
     "text": [
      "Highest Total Lender Counts: Philippines\n",
      "Lowest Total Lender Counts: Vanuatu\n"
     ]
    }
   ],
   "source": [
    "print(f\"Highest Total Lender Counts: {max_country}\\nLowest Total Lender Counts: {min_country}\")"
   ]
  },
  {
   "cell_type": "code",
   "execution_count": 189,
   "metadata": {},
   "outputs": [
    {
     "data": {
      "text/plain": [
       "array(['female', 'female, female', 'female, female, female', ...,\n",
       "       'female, female, female, female, male, male, female, female, female, female, female, female',\n",
       "       'male, female, female, female, female, female, female, female, male, male, female, male, female, male, male, male',\n",
       "       'female, female, female, male, female, female, female, male, female, female, female, male, female, male, female, female, female, female, female, female, female, female, female, female, female, female, female, female, male'],\n",
       "      dtype=object)"
      ]
     },
     "execution_count": 189,
     "metadata": {},
     "output_type": "execute_result"
    }
   ],
   "source": [
    "# Borrowers genders\n",
    "loans['borrower_genders'].unique()"
   ]
  },
  {
   "cell_type": "markdown",
   "metadata": {},
   "source": [
    "- Based on the dataset description, each party per data point represents a single individual, such that a data point having 'male, female' represents two people. This makes my analysis a little bit challenging, especially when trying to represent which genders on average do what. So what I'll do is sort of truncate each data point only to the first party so as to only have two unique genders."
   ]
  },
  {
   "cell_type": "code",
   "execution_count": 190,
   "metadata": {},
   "outputs": [],
   "source": [
    "loans = loans.dropna(subset=['borrower_genders'])"
   ]
  },
  {
   "cell_type": "code",
   "execution_count": 191,
   "metadata": {},
   "outputs": [],
   "source": [
    "borrower_genders = [_[0] for _ in loans['borrower_genders'].str.replace(\",\", \" \").str.split()]"
   ]
  },
  {
   "cell_type": "code",
   "execution_count": 192,
   "metadata": {},
   "outputs": [],
   "source": [
    "borrower_genders = pd.Series(borrower_genders)"
   ]
  },
  {
   "cell_type": "code",
   "execution_count": 193,
   "metadata": {},
   "outputs": [],
   "source": [
    "loans['borrower_genders'] = borrower_genders"
   ]
  },
  {
   "cell_type": "code",
   "execution_count": 195,
   "metadata": {},
   "outputs": [],
   "source": [
    "loans = loans.dropna(subset=['borrower_genders'])"
   ]
  },
  {
   "cell_type": "code",
   "execution_count": 196,
   "metadata": {},
   "outputs": [
    {
     "data": {
      "text/plain": [
       "array(['female', 'male'], dtype=object)"
      ]
     },
     "execution_count": 196,
     "metadata": {},
     "output_type": "execute_result"
    }
   ],
   "source": [
    "loans['borrower_genders'].unique()"
   ]
  },
  {
   "cell_type": "code",
   "execution_count": 198,
   "metadata": {},
   "outputs": [],
   "source": [
    "# ^^^ should got to data cleaning section"
   ]
  },
  {
   "cell_type": "code",
   "execution_count": 201,
   "metadata": {},
   "outputs": [
    {
     "data": {
      "text/html": [
       "<div>\n",
       "<style scoped>\n",
       "    .dataframe tbody tr th:only-of-type {\n",
       "        vertical-align: middle;\n",
       "    }\n",
       "\n",
       "    .dataframe tbody tr th {\n",
       "        vertical-align: top;\n",
       "    }\n",
       "\n",
       "    .dataframe thead th {\n",
       "        text-align: right;\n",
       "    }\n",
       "</style>\n",
       "<table border=\"1\" class=\"dataframe\">\n",
       "  <thead>\n",
       "    <tr style=\"text-align: right;\">\n",
       "      <th></th>\n",
       "      <th>id</th>\n",
       "      <th>funded_amount</th>\n",
       "      <th>loan_amount</th>\n",
       "      <th>partner_id</th>\n",
       "      <th>term_in_months</th>\n",
       "      <th>lender_count</th>\n",
       "    </tr>\n",
       "    <tr>\n",
       "      <th>borrower_genders</th>\n",
       "      <th></th>\n",
       "      <th></th>\n",
       "      <th></th>\n",
       "      <th></th>\n",
       "      <th></th>\n",
       "      <th></th>\n",
       "    </tr>\n",
       "  </thead>\n",
       "  <tbody>\n",
       "    <tr>\n",
       "      <th>female</th>\n",
       "      <td>420712393999</td>\n",
       "      <td>331681475.0</td>\n",
       "      <td>347434750.0</td>\n",
       "      <td>77794600.0</td>\n",
       "      <td>5988160.0</td>\n",
       "      <td>8826779</td>\n",
       "    </tr>\n",
       "    <tr>\n",
       "      <th>male</th>\n",
       "      <td>120766683799</td>\n",
       "      <td>96868850.0</td>\n",
       "      <td>101427575.0</td>\n",
       "      <td>22473617.0</td>\n",
       "      <td>1748122.0</td>\n",
       "      <td>2593772</td>\n",
       "    </tr>\n",
       "  </tbody>\n",
       "</table>\n",
       "</div>"
      ],
      "text/plain": [
       "                            id  funded_amount  loan_amount  partner_id  \\\n",
       "borrower_genders                                                         \n",
       "female            420712393999    331681475.0  347434750.0  77794600.0   \n",
       "male              120766683799     96868850.0  101427575.0  22473617.0   \n",
       "\n",
       "                  term_in_months  lender_count  \n",
       "borrower_genders                                \n",
       "female                 5988160.0       8826779  \n",
       "male                   1748122.0       2593772  "
      ]
     },
     "execution_count": 201,
     "metadata": {},
     "output_type": "execute_result"
    }
   ],
   "source": [
    "# Amount per gender\n",
    "loans.groupby(['borrower_genders']).sum()"
   ]
  },
  {
   "cell_type": "code",
   "execution_count": 202,
   "metadata": {},
   "outputs": [
    {
     "data": {
      "text/html": [
       "<div>\n",
       "<style scoped>\n",
       "    .dataframe tbody tr th:only-of-type {\n",
       "        vertical-align: middle;\n",
       "    }\n",
       "\n",
       "    .dataframe tbody tr th {\n",
       "        vertical-align: top;\n",
       "    }\n",
       "\n",
       "    .dataframe thead th {\n",
       "        text-align: right;\n",
       "    }\n",
       "</style>\n",
       "<table border=\"1\" class=\"dataframe\">\n",
       "  <thead>\n",
       "    <tr style=\"text-align: right;\">\n",
       "      <th></th>\n",
       "      <th>id</th>\n",
       "      <th>funded_amount</th>\n",
       "      <th>loan_amount</th>\n",
       "      <th>activity</th>\n",
       "      <th>sector</th>\n",
       "      <th>country_code</th>\n",
       "      <th>country</th>\n",
       "      <th>region</th>\n",
       "      <th>currency</th>\n",
       "      <th>partner_id</th>\n",
       "      <th>posted_time</th>\n",
       "      <th>disbursed_time</th>\n",
       "      <th>funded_time</th>\n",
       "      <th>term_in_months</th>\n",
       "      <th>lender_count</th>\n",
       "      <th>repayment_interval</th>\n",
       "      <th>date</th>\n",
       "    </tr>\n",
       "    <tr>\n",
       "      <th>borrower_genders</th>\n",
       "      <th></th>\n",
       "      <th></th>\n",
       "      <th></th>\n",
       "      <th></th>\n",
       "      <th></th>\n",
       "      <th></th>\n",
       "      <th></th>\n",
       "      <th></th>\n",
       "      <th></th>\n",
       "      <th></th>\n",
       "      <th></th>\n",
       "      <th></th>\n",
       "      <th></th>\n",
       "      <th></th>\n",
       "      <th></th>\n",
       "      <th></th>\n",
       "      <th></th>\n",
       "    </tr>\n",
       "  </thead>\n",
       "  <tbody>\n",
       "    <tr>\n",
       "      <th>female</th>\n",
       "      <td>434360</td>\n",
       "      <td>434360</td>\n",
       "      <td>434360</td>\n",
       "      <td>434360</td>\n",
       "      <td>434360</td>\n",
       "      <td>434360</td>\n",
       "      <td>434360</td>\n",
       "      <td>434360</td>\n",
       "      <td>434360</td>\n",
       "      <td>434360</td>\n",
       "      <td>434360</td>\n",
       "      <td>434360</td>\n",
       "      <td>408885</td>\n",
       "      <td>434360</td>\n",
       "      <td>434360</td>\n",
       "      <td>434360</td>\n",
       "      <td>434360</td>\n",
       "    </tr>\n",
       "    <tr>\n",
       "      <th>male</th>\n",
       "      <td>126205</td>\n",
       "      <td>126205</td>\n",
       "      <td>126205</td>\n",
       "      <td>126205</td>\n",
       "      <td>126205</td>\n",
       "      <td>126205</td>\n",
       "      <td>126205</td>\n",
       "      <td>126205</td>\n",
       "      <td>126205</td>\n",
       "      <td>126205</td>\n",
       "      <td>126205</td>\n",
       "      <td>126205</td>\n",
       "      <td>118709</td>\n",
       "      <td>126205</td>\n",
       "      <td>126205</td>\n",
       "      <td>126205</td>\n",
       "      <td>126205</td>\n",
       "    </tr>\n",
       "  </tbody>\n",
       "</table>\n",
       "</div>"
      ],
      "text/plain": [
       "                      id  funded_amount  loan_amount  activity  sector  \\\n",
       "borrower_genders                                                         \n",
       "female            434360         434360       434360    434360  434360   \n",
       "male              126205         126205       126205    126205  126205   \n",
       "\n",
       "                  country_code  country  region  currency  partner_id  \\\n",
       "borrower_genders                                                        \n",
       "female                  434360   434360  434360    434360      434360   \n",
       "male                    126205   126205  126205    126205      126205   \n",
       "\n",
       "                  posted_time  disbursed_time  funded_time  term_in_months  \\\n",
       "borrower_genders                                                             \n",
       "female                 434360          434360       408885          434360   \n",
       "male                   126205          126205       118709          126205   \n",
       "\n",
       "                  lender_count  repayment_interval    date  \n",
       "borrower_genders                                            \n",
       "female                  434360              434360  434360  \n",
       "male                    126205              126205  126205  "
      ]
     },
     "execution_count": 202,
     "metadata": {},
     "output_type": "execute_result"
    }
   ],
   "source": [
    "# Total number for each gender\n",
    "loans.groupby(['borrower_genders']).count()"
   ]
  },
  {
   "cell_type": "code",
   "execution_count": 210,
   "metadata": {},
   "outputs": [
    {
     "data": {
      "text/plain": [
       "borrower_genders  sector        \n",
       "female            Agriculture       118760\n",
       "                  Arts                7301\n",
       "                  Clothing           20375\n",
       "                  Construction        4055\n",
       "                  Education          20899\n",
       "                  Entertainment        451\n",
       "                  Food               88161\n",
       "                  Health              5646\n",
       "                  Housing            19514\n",
       "                  Manufacturing       4142\n",
       "                  Personal Use       24699\n",
       "                  Retail             81240\n",
       "                  Services           27947\n",
       "                  Transportation     10742\n",
       "                  Wholesale            428\n",
       "male              Agriculture        34717\n",
       "                  Arts                2201\n",
       "                  Clothing            5980\n",
       "                  Construction        1147\n",
       "                  Education           6138\n",
       "                  Entertainment        128\n",
       "                  Food               25489\n",
       "                  Health              1639\n",
       "                  Housing             5807\n",
       "                  Manufacturing       1232\n",
       "                  Personal Use        6893\n",
       "                  Retail             23821\n",
       "                  Services            7785\n",
       "                  Transportation      3091\n",
       "                  Wholesale            137\n",
       "Name: id, dtype: int64"
      ]
     },
     "execution_count": 210,
     "metadata": {},
     "output_type": "execute_result"
    }
   ],
   "source": [
    "# Sector which majority for each gender are invlolved\n",
    "loans.groupby(['borrower_genders', 'sector'])['id'].count()"
   ]
  },
  {
   "cell_type": "markdown",
   "metadata": {},
   "source": [
    "- There are more female cutomers compared to male, and they also ask for more funding.\n",
    "- It is also evident that all sectors contain more female than male since the data contains more female customers than male."
   ]
  },
  {
   "cell_type": "code",
   "execution_count": 206,
   "metadata": {},
   "outputs": [
    {
     "data": {
      "text/plain": [
       "array(['irregular', 'bullet', 'monthly'], dtype=object)"
      ]
     },
     "execution_count": 206,
     "metadata": {},
     "output_type": "execute_result"
    }
   ],
   "source": [
    "# repayment intervals\n",
    "loans['repayment_interval'].unique()"
   ]
  },
  {
   "cell_type": "code",
   "execution_count": 208,
   "metadata": {},
   "outputs": [
    {
     "data": {
      "text/plain": [
       "repayment_interval\n",
       "bullet        59700\n",
       "irregular    221534\n",
       "monthly      279331\n",
       "Name: id, dtype: int64"
      ]
     },
     "execution_count": 208,
     "metadata": {},
     "output_type": "execute_result"
    }
   ],
   "source": [
    "loans.groupby(['repayment_interval'])['id'].count()"
   ]
  },
  {
   "cell_type": "markdown",
   "metadata": {},
   "source": [
    "- There are three forms of repayment intervals, which are as above.\n",
    "- The most common form is the monthly form, followed by the irregular by a small margin, then bullet."
   ]
  },
  {
   "cell_type": "code",
   "execution_count": null,
   "metadata": {},
   "outputs": [],
   "source": []
  }
 ],
 "metadata": {
  "kernelspec": {
   "display_name": "Python 3",
   "language": "python",
   "name": "python3"
  },
  "language_info": {
   "codemirror_mode": {
    "name": "ipython",
    "version": 3
   },
   "file_extension": ".py",
   "mimetype": "text/x-python",
   "name": "python",
   "nbconvert_exporter": "python",
   "pygments_lexer": "ipython3",
   "version": "3.7.7"
  }
 },
 "nbformat": 4,
 "nbformat_minor": 4
}
